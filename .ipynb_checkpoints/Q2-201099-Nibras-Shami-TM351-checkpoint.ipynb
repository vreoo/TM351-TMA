{
 "cells": [
  {
   "cell_type": "markdown",
   "id": "19741cef",
   "metadata": {},
   "source": [
    "# Lung Cancer"
   ]
  },
  {
   "cell_type": "code",
   "execution_count": null,
   "id": "b526f6e4",
   "metadata": {},
   "outputs": [],
   "source": [
    "!pip install pandas matplotlib"
   ]
  },
  {
   "cell_type": "code",
   "execution_count": 1,
   "id": "759e071c",
   "metadata": {},
   "outputs": [],
   "source": [
    "## Import needed libs\n",
    "import pandas as pd\n",
    "import pandas as pd\n",
    "import matplotlib.pyplot as plt\n",
    "import seaborn as sns"
   ]
  },
  {
   "cell_type": "markdown",
   "id": "5abf2977",
   "metadata": {},
   "source": [
    "#### Load Dataset\n",
    "- We will provide the path to .csv file we have of the dataset\n",
    "- Read the content of the dataset using `read_csv()` function provided by `pandas` lib"
   ]
  },
  {
   "cell_type": "code",
   "execution_count": 3,
   "id": "a23ee8e7",
   "metadata": {},
   "outputs": [],
   "source": [
    "# Load the dataset\n",
    "file_path = 'Data/survey lung cancer.csv'  # Replace this with the actual file path\n",
    "data = pd.read_csv(file_path)\n",
    "df = pd.DataFrame(data)"
   ]
  },
  {
   "cell_type": "markdown",
   "id": "0d4691e6",
   "metadata": {},
   "source": [
    "### Exploring\n",
    "\n",
    "We loaded our dataset already, so now we will explore it and see some basic info that will help us extract some useful data out of it.\n",
    "\n",
    "<br>\n",
    "\n",
    "#### Display first 5 Rows\n",
    "- We will start by showing the `head` of the dataset (5 rows only) to see how the data looks like:"
   ]
  },
  {
   "cell_type": "code",
   "execution_count": 4,
   "id": "9ecb121e",
   "metadata": {},
   "outputs": [
    {
     "name": "stdout",
     "output_type": "stream",
     "text": [
      "First 5 rows of the dataset:\n",
      "  GENDER  AGE  SMOKING  YELLOW_FINGERS  ANXIETY  PEER_PRESSURE  \\\n",
      "0      M   69        1               2        2              1   \n",
      "1      M   74        2               1        1              1   \n",
      "2      F   59        1               1        1              2   \n",
      "3      M   63        2               2        2              1   \n",
      "4      F   63        1               2        1              1   \n",
      "\n",
      "   CHRONIC DISEASE  FATIGUE   ALLERGY   WHEEZING  ALCOHOL CONSUMING  COUGHING  \\\n",
      "0                1         2         1         2                  2         2   \n",
      "1                2         2         2         1                  1         1   \n",
      "2                1         2         1         2                  1         2   \n",
      "3                1         1         1         1                  2         1   \n",
      "4                1         1         1         2                  1         2   \n",
      "\n",
      "   SHORTNESS OF BREATH  SWALLOWING DIFFICULTY  CHEST PAIN LUNG_CANCER  \n",
      "0                    2                      2           2         YES  \n",
      "1                    2                      2           2         YES  \n",
      "2                    2                      1           2          NO  \n",
      "3                    1                      2           2          NO  \n",
      "4                    2                      1           1          NO  \n"
     ]
    }
   ],
   "source": [
    "# Display the first few rows of the dataset to understand its structure\n",
    "print(\"First 5 rows of the dataset:\")\n",
    "print(df.head())"
   ]
  },
  {
   "cell_type": "markdown",
   "id": "4d5c5ae7",
   "metadata": {},
   "source": [
    "Based on the data we retrieved from the first 5 rows, we can notice that most of the columns records the responses as (YES=2, NO=1) and takes the Age and Gender as well.\n",
    "\n",
    "<br>\n",
    "\n",
    "#### Dataset Info\n",
    "- We can now display all the columns and their `Dtype` (Data Type) so we can now what type of value we are dealing with later on.\n",
    "- We can also get how many entries in this dataset.\n",
    "\n",
    "`data.info()` will help us get these information:"
   ]
  },
  {
   "cell_type": "code",
   "execution_count": 5,
   "id": "31f90185",
   "metadata": {},
   "outputs": [
    {
     "name": "stdout",
     "output_type": "stream",
     "text": [
      "\n",
      "Dataset information:\n",
      "<class 'pandas.core.frame.DataFrame'>\n",
      "RangeIndex: 309 entries, 0 to 308\n",
      "Data columns (total 16 columns):\n",
      " #   Column                 Non-Null Count  Dtype \n",
      "---  ------                 --------------  ----- \n",
      " 0   GENDER                 309 non-null    object\n",
      " 1   AGE                    309 non-null    int64 \n",
      " 2   SMOKING                309 non-null    int64 \n",
      " 3   YELLOW_FINGERS         309 non-null    int64 \n",
      " 4   ANXIETY                309 non-null    int64 \n",
      " 5   PEER_PRESSURE          309 non-null    int64 \n",
      " 6   CHRONIC DISEASE        309 non-null    int64 \n",
      " 7   FATIGUE                309 non-null    int64 \n",
      " 8   ALLERGY                309 non-null    int64 \n",
      " 9   WHEEZING               309 non-null    int64 \n",
      " 10  ALCOHOL CONSUMING      309 non-null    int64 \n",
      " 11  COUGHING               309 non-null    int64 \n",
      " 12  SHORTNESS OF BREATH    309 non-null    int64 \n",
      " 13  SWALLOWING DIFFICULTY  309 non-null    int64 \n",
      " 14  CHEST PAIN             309 non-null    int64 \n",
      " 15  LUNG_CANCER            309 non-null    object\n",
      "dtypes: int64(14), object(2)\n",
      "memory usage: 38.8+ KB\n",
      "None\n"
     ]
    }
   ],
   "source": [
    "# Get information about the dataset including column names, data types, and missing values\n",
    "print(\"\\nDataset information:\")\n",
    "print(df.info())"
   ]
  },
  {
   "cell_type": "code",
   "execution_count": 6,
   "id": "9a53dfb5",
   "metadata": {},
   "outputs": [
    {
     "name": "stdout",
     "output_type": "stream",
     "text": [
      "\n",
      "Missing values in the dataset:\n",
      "GENDER                   0\n",
      "AGE                      0\n",
      "SMOKING                  0\n",
      "YELLOW_FINGERS           0\n",
      "ANXIETY                  0\n",
      "PEER_PRESSURE            0\n",
      "CHRONIC DISEASE          0\n",
      "FATIGUE                  0\n",
      "ALLERGY                  0\n",
      "WHEEZING                 0\n",
      "ALCOHOL CONSUMING        0\n",
      "COUGHING                 0\n",
      "SHORTNESS OF BREATH      0\n",
      "SWALLOWING DIFFICULTY    0\n",
      "CHEST PAIN               0\n",
      "LUNG_CANCER              0\n",
      "dtype: int64\n"
     ]
    }
   ],
   "source": [
    "# Check for missing values\n",
    "print(\"\\nMissing values in the dataset:\")\n",
    "print(df.isnull().sum())"
   ]
  },
  {
   "cell_type": "code",
   "execution_count": 7,
   "id": "484a10f6",
   "metadata": {},
   "outputs": [
    {
     "name": "stdout",
     "output_type": "stream",
     "text": [
      "\n",
      "Summary statistics of numerical columns:\n",
      "              AGE     SMOKING  YELLOW_FINGERS     ANXIETY  PEER_PRESSURE  \\\n",
      "count  309.000000  309.000000      309.000000  309.000000     309.000000   \n",
      "mean    62.673139    1.563107        1.569579    1.498382       1.501618   \n",
      "std      8.210301    0.496806        0.495938    0.500808       0.500808   \n",
      "min     21.000000    1.000000        1.000000    1.000000       1.000000   \n",
      "25%     57.000000    1.000000        1.000000    1.000000       1.000000   \n",
      "50%     62.000000    2.000000        2.000000    1.000000       2.000000   \n",
      "75%     69.000000    2.000000        2.000000    2.000000       2.000000   \n",
      "max     87.000000    2.000000        2.000000    2.000000       2.000000   \n",
      "\n",
      "       CHRONIC DISEASE    FATIGUE     ALLERGY     WHEEZING  ALCOHOL CONSUMING  \\\n",
      "count       309.000000  309.000000  309.000000  309.000000         309.000000   \n",
      "mean          1.504854    1.673139    1.556634    1.556634           1.556634   \n",
      "std           0.500787    0.469827    0.497588    0.497588           0.497588   \n",
      "min           1.000000    1.000000    1.000000    1.000000           1.000000   \n",
      "25%           1.000000    1.000000    1.000000    1.000000           1.000000   \n",
      "50%           2.000000    2.000000    2.000000    2.000000           2.000000   \n",
      "75%           2.000000    2.000000    2.000000    2.000000           2.000000   \n",
      "max           2.000000    2.000000    2.000000    2.000000           2.000000   \n",
      "\n",
      "         COUGHING  SHORTNESS OF BREATH  SWALLOWING DIFFICULTY  CHEST PAIN  \n",
      "count  309.000000           309.000000             309.000000  309.000000  \n",
      "mean     1.579288             1.640777               1.469256    1.556634  \n",
      "std      0.494474             0.480551               0.499863    0.497588  \n",
      "min      1.000000             1.000000               1.000000    1.000000  \n",
      "25%      1.000000             1.000000               1.000000    1.000000  \n",
      "50%      2.000000             2.000000               1.000000    2.000000  \n",
      "75%      2.000000             2.000000               2.000000    2.000000  \n",
      "max      2.000000             2.000000               2.000000    2.000000  \n"
     ]
    }
   ],
   "source": [
    "# Summary statistics\n",
    "summary_stats = df.describe()\n",
    "# Summary statistics of numerical columns\n",
    "print(\"\\nSummary statistics of numerical columns:\")\n",
    "print(summary_stats)"
   ]
  },
  {
   "cell_type": "code",
   "execution_count": null,
   "id": "71433309",
   "metadata": {},
   "outputs": [],
   "source": [
    "# For example, you can create a histogram of ages\n",
    "plt.hist(df['AGE'], bins=20, color='skyblue')\n",
    "plt.xlabel('AGE')\n",
    "plt.ylabel('Frequency')\n",
    "plt.title('Distribution of Ages')\n",
    "plt.show()"
   ]
  },
  {
   "cell_type": "code",
   "execution_count": null,
   "id": "7ef33b07",
   "metadata": {},
   "outputs": [],
   "source": [
    "# Assuming 'GENDER' column exists in the dataset differentiating between males and females\n",
    "\n",
    "# Filter data by gender\n",
    "males_data = df[df['GENDER'] == 'Male']\n",
    "females_data = df[df['GENDER'] == 'Female']\n",
    "\n",
    "# Boxplot comparison of ages between males and females\n",
    "plt.figure(figsize=(8, 6))\n",
    "sns.boxplot(x='GENDER', y='AGE', data=df)\n",
    "plt.title('Age Distribution between Males and Females')\n",
    "plt.xlabel('Gender')\n",
    "plt.ylabel('Age')\n",
    "plt.show()"
   ]
  },
  {
   "cell_type": "code",
   "execution_count": null,
   "id": "2d054422",
   "metadata": {},
   "outputs": [],
   "source": [
    "# Example: Bar plot comparing smoking status between genders\n",
    "plt.figure(figsize=(10, 6))\n",
    "sns.countplot(x='SMOKING', hue='GENDER', data=df)\n",
    "plt.title('Smoking Status by Gender')\n",
    "plt.xlabel('Smoking Status')\n",
    "plt.xticks(ticks=[0, 1], labels=['NO', 'YES'])  # Assuming 1 represents 'NO' and 2 represents 'YES'\n",
    "plt.ylabel('Count')\n",
    "plt.legend(title='Gender')\n",
    "plt.show()"
   ]
  },
  {
   "cell_type": "code",
   "execution_count": null,
   "id": "376722c2",
   "metadata": {},
   "outputs": [],
   "source": [
    "# Assuming 'LUNG_CANCER' and 'GENDER' columns exist in the dataset\n",
    "\n",
    "# Plotting the distribution of cancer status among genders\n",
    "plt.figure(figsize=(8, 6))\n",
    "sns.countplot(x='LUNG_CANCER', hue='GENDER', data=df)\n",
    "plt.title('Distribution of Cancer Status by Gender')\n",
    "plt.xlabel('Cancer Status')\n",
    "plt.ylabel('Count')\n",
    "plt.legend(title='Gender')\n",
    "plt.show()"
   ]
  },
  {
   "cell_type": "code",
   "execution_count": null,
   "id": "ae81fefa",
   "metadata": {},
   "outputs": [],
   "source": [
    "# Plotting relationships using seaborn\n",
    "sns.pairplot(df, hue='LUNG_CANCER', diag_kind='hist')\n",
    "plt.show()"
   ]
  },
  {
   "cell_type": "code",
   "execution_count": null,
   "id": "f943fff7",
   "metadata": {},
   "outputs": [],
   "source": [
    "# Boxplot of age by lung cancer status\n",
    "plt.figure(figsize=(8, 6))\n",
    "sns.boxplot(x='LUNG_CANCER', y='AGE', data=df)\n",
    "plt.title('Age distribution by Lung Cancer')\n",
    "plt.show()"
   ]
  },
  {
   "cell_type": "code",
   "execution_count": null,
   "id": "777d46a3",
   "metadata": {},
   "outputs": [],
   "source": [
    "# Countplot for categorical variables\n",
    "categorical_columns = ['GENDER', 'SMOKING', 'YELLOW_FINGERS', 'ANXIETY', 'PEER_PRESSURE']\n",
    "for col in categorical_columns:\n",
    "    plt.figure(figsize=(8, 6))\n",
    "    sns.countplot(x=col, hue='LUNG_CANCER', data=df)\n",
    "    plt.title(f'{col} count by Lung Cancer')\n",
    "    plt.show()"
   ]
  }
 ],
 "metadata": {
  "kernelspec": {
   "display_name": "Python 3 (ipykernel)",
   "language": "python",
   "name": "python3"
  },
  "language_info": {
   "codemirror_mode": {
    "name": "ipython",
    "version": 3
   },
   "file_extension": ".py",
   "mimetype": "text/x-python",
   "name": "python",
   "nbconvert_exporter": "python",
   "pygments_lexer": "ipython3",
   "version": "3.11.5"
  }
 },
 "nbformat": 4,
 "nbformat_minor": 5
}
